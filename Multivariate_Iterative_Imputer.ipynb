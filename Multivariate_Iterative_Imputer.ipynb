{
 "cells": [
  {
   "cell_type": "code",
   "execution_count": 22,
   "id": "fb4c2b35-558c-4c2a-820d-c40dabec48d0",
   "metadata": {},
   "outputs": [],
   "source": [
    "import pandas as pd \n",
    "import numpy as np\n",
    "import seaborn as sns\n",
    "import matplotlib.pyplot as plt\n",
    "from sklearn.model_selection import train_test_split\n",
    "from sklearn.impute import SimpleImputer"
   ]
  },
  {
   "cell_type": "code",
   "execution_count": 23,
   "id": "6f003224-8228-4192-9749-64fe06f91245",
   "metadata": {},
   "outputs": [],
   "source": [
    "#it is also known as mice.Multivariate imputation  by chain equation.\n",
    "#it is used in certain assumption.\n",
    "#1:missing completley at random ,\n",
    "#2:missing at random, we fill values bu using other columns\n",
    "#3:Missing not at random--->jan bujh k data hataya gaya hae..\n",
    "\n",
    "#Advantages:\n",
    "#1:Accurate\n",
    "#Disadvantages.\n",
    "#1:it make the program slow.\n",
    "#2:the main disdvantages is wwe need to upload our ull data on the server becuase missing values fill with train data."
   ]
  },
  {
   "cell_type": "code",
   "execution_count": 25,
   "id": "783a518d-e26b-4717-b836-a80f07c6c8b3",
   "metadata": {},
   "outputs": [],
   "source": [
    "#Step1:\n",
    "#in Null values fill with the mean value of their columns. \n",
    "#Step2:\n",
    "#Move left to right and replace the value with nan.the row that have Nan value making input and outher columns gon make train data for them then we predict the\n",
    "#value for the na  value."
   ]
  },
  {
   "cell_type": "code",
   "execution_count": null,
   "id": "b4a0b287-97d6-4188-8db8-ed8d52809bea",
   "metadata": {},
   "outputs": [],
   "source": []
  },
  {
   "cell_type": "code",
   "execution_count": 26,
   "id": "3fa44d5a-d636-47e6-a651-864652f2d40e",
   "metadata": {},
   "outputs": [
    {
     "data": {
      "text/plain": [
       "array([[ 6.95847623,  2.        ,  3.        ],\n",
       "       [ 4.        ,  2.6000004 ,  6.        ],\n",
       "       [10.        ,  4.99999933,  9.        ]])"
      ]
     },
     "execution_count": 26,
     "metadata": {},
     "output_type": "execute_result"
    }
   ],
   "source": [
    "#taking this code from the sklearn webpage.\n",
    "import numpy as np\n",
    "from sklearn.experimental import enable_iterative_imputer\n",
    "from sklearn.impute import IterativeImputer\n",
    "imp_mean = IterativeImputer(random_state=0)\n",
    "imp_mean.fit([[7, 2, 3], [4, np.nan, 6], [10, 5, 9]])\n",
    "X = [[np.nan, 2, 3], [4, np.nan, 6], [10, np.nan, 9]]\n",
    "imp_mean.transform(X)"
   ]
  },
  {
   "cell_type": "code",
   "execution_count": null,
   "id": "b28c8c15-3ff0-433f-91fe-8429b6e766f0",
   "metadata": {},
   "outputs": [],
   "source": []
  }
 ],
 "metadata": {
  "kernelspec": {
   "display_name": "Python 3 (ipykernel)",
   "language": "python",
   "name": "python3"
  },
  "language_info": {
   "codemirror_mode": {
    "name": "ipython",
    "version": 3
   },
   "file_extension": ".py",
   "mimetype": "text/x-python",
   "name": "python",
   "nbconvert_exporter": "python",
   "pygments_lexer": "ipython3",
   "version": "3.12.0"
  },
  "widgets": {
   "application/vnd.jupyter.widget-state+json": {
    "state": {},
    "version_major": 2,
    "version_minor": 0
   }
  }
 },
 "nbformat": 4,
 "nbformat_minor": 5
}
