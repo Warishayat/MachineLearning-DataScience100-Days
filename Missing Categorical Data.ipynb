{
 "cells": [
  {
   "cell_type": "code",
   "execution_count": 1,
   "id": "eda7d57b-19aa-4950-ae69-2ca97328139f",
   "metadata": {},
   "outputs": [
    {
     "name": "stderr",
     "output_type": "stream",
     "text": [
      "C:\\Users\\Waris Hayyat\\AppData\\Local\\Temp\\ipykernel_8620\\1325647701.py:1: DeprecationWarning: \n",
      "Pyarrow will become a required dependency of pandas in the next major release of pandas (pandas 3.0),\n",
      "(to allow more performant data types, such as the Arrow string type, and better interoperability with other libraries)\n",
      "but was not found to be installed on your system.\n",
      "If this would cause problems for you,\n",
      "please provide us feedback at https://github.com/pandas-dev/pandas/issues/54466\n",
      "        \n",
      "  import pandas as pd\n"
     ]
    }
   ],
   "source": [
    "import pandas as pd\n",
    "import numpy as np\n",
    "import seaborn as sns\n",
    "import matplotlib.pyplot as plt\n",
    "from sklearn.model_selection import train_test_split\n",
    "from sklearn.impute import SimpleImputer"
   ]
  },
  {
   "cell_type": "code",
   "execution_count": 2,
   "id": "5e1e219b-9006-4359-b041-12f7130517a1",
   "metadata": {},
   "outputs": [],
   "source": [
    "#Now talk about categorical data.\n",
    "# type\n",
    "#1: fill data or replace with mode value\n",
    "#2: fill with to replace with missing values\n",
    "\n",
    "#Where need to apply.\n",
    "#When data is missing at random.\n",
    "#Mode must be excessive in the data itschange the distribution of the data."
   ]
  },
  {
   "cell_type": "code",
   "execution_count": 14,
   "id": "2c961ff9-7db3-4342-a4fe-20ca3ed209e2",
   "metadata": {},
   "outputs": [
    {
     "data": {
      "text/html": [
       "<div>\n",
       "<style scoped>\n",
       "    .dataframe tbody tr th:only-of-type {\n",
       "        vertical-align: middle;\n",
       "    }\n",
       "\n",
       "    .dataframe tbody tr th {\n",
       "        vertical-align: top;\n",
       "    }\n",
       "\n",
       "    .dataframe thead th {\n",
       "        text-align: right;\n",
       "    }\n",
       "</style>\n",
       "<table border=\"1\" class=\"dataframe\">\n",
       "  <thead>\n",
       "    <tr style=\"text-align: right;\">\n",
       "      <th></th>\n",
       "      <th>Loan_ID</th>\n",
       "      <th>Gender</th>\n",
       "      <th>Married</th>\n",
       "      <th>Dependents</th>\n",
       "      <th>Education</th>\n",
       "      <th>Self_Employed</th>\n",
       "      <th>ApplicantIncome</th>\n",
       "      <th>CoapplicantIncome</th>\n",
       "      <th>LoanAmount</th>\n",
       "      <th>Loan_Amount_Term</th>\n",
       "      <th>Credit_History</th>\n",
       "      <th>Property_Area</th>\n",
       "      <th>Loan_Status</th>\n",
       "    </tr>\n",
       "  </thead>\n",
       "  <tbody>\n",
       "    <tr>\n",
       "      <th>17</th>\n",
       "      <td>LP001068</td>\n",
       "      <td>Male</td>\n",
       "      <td>Yes</td>\n",
       "      <td>0</td>\n",
       "      <td>Graduate</td>\n",
       "      <td>No</td>\n",
       "      <td>2799</td>\n",
       "      <td>2253</td>\n",
       "      <td>122</td>\n",
       "      <td>360</td>\n",
       "      <td>1</td>\n",
       "      <td>Semiurban</td>\n",
       "      <td>Y</td>\n",
       "    </tr>\n",
       "    <tr>\n",
       "      <th>13</th>\n",
       "      <td>LP001041</td>\n",
       "      <td>Male</td>\n",
       "      <td>Yes</td>\n",
       "      <td>0</td>\n",
       "      <td>Graduate</td>\n",
       "      <td>NaN</td>\n",
       "      <td>2600</td>\n",
       "      <td>3500</td>\n",
       "      <td>115</td>\n",
       "      <td>NaN</td>\n",
       "      <td>1</td>\n",
       "      <td>Urban</td>\n",
       "      <td>Y</td>\n",
       "    </tr>\n",
       "    <tr>\n",
       "      <th>16</th>\n",
       "      <td>LP001050</td>\n",
       "      <td>NaN</td>\n",
       "      <td>Yes</td>\n",
       "      <td>2</td>\n",
       "      <td>Not Graduate</td>\n",
       "      <td>No</td>\n",
       "      <td>3365</td>\n",
       "      <td>1917</td>\n",
       "      <td>112</td>\n",
       "      <td>360</td>\n",
       "      <td>0</td>\n",
       "      <td>Rural</td>\n",
       "      <td>N</td>\n",
       "    </tr>\n",
       "  </tbody>\n",
       "</table>\n",
       "</div>"
      ],
      "text/plain": [
       "     Loan_ID Gender Married  Dependents     Education Self_Employed  \\\n",
       "17  LP001068   Male     Yes           0      Graduate            No   \n",
       "13  LP001041   Male     Yes           0      Graduate           NaN   \n",
       "16  LP001050    NaN     Yes           2  Not Graduate            No   \n",
       "\n",
       "    ApplicantIncome  CoapplicantIncome  LoanAmount Loan_Amount_Term  \\\n",
       "17             2799               2253         122              360   \n",
       "13             2600               3500         115              NaN   \n",
       "16             3365               1917         112              360   \n",
       "\n",
       "   Credit_History Property_Area Loan_Status  \n",
       "17              1     Semiurban           Y  \n",
       "13              1         Urban           Y  \n",
       "16              0         Rural           N  "
      ]
     },
     "execution_count": 14,
     "metadata": {},
     "output_type": "execute_result"
    }
   ],
   "source": [
    "var=pd.read_csv(\"loan_data.csv\")\n",
    "var.sample(3)"
   ]
  },
  {
   "cell_type": "code",
   "execution_count": 15,
   "id": "cee01c79-09f2-4457-b491-3d0c06fe650b",
   "metadata": {},
   "outputs": [
    {
     "data": {
      "text/plain": [
       "Loan_ID              0.000000\n",
       "Gender               0.043478\n",
       "Married              0.000000\n",
       "Dependents           0.000000\n",
       "Education            0.000000\n",
       "Self_Employed        0.130435\n",
       "ApplicantIncome      0.000000\n",
       "CoapplicantIncome    0.000000\n",
       "LoanAmount           0.000000\n",
       "Loan_Amount_Term     0.043478\n",
       "Credit_History       0.043478\n",
       "Property_Area        0.086957\n",
       "Loan_Status          0.130435\n",
       "dtype: float64"
      ]
     },
     "execution_count": 15,
     "metadata": {},
     "output_type": "execute_result"
    }
   ],
   "source": [
    "var.isnull().mean()"
   ]
  },
  {
   "cell_type": "code",
   "execution_count": 20,
   "id": "95aff11a-a183-4ce7-bdfa-f39ea6b5ed5b",
   "metadata": {},
   "outputs": [],
   "source": [
    "var=var[[\"Gender\",\"Self_Employed\",\"Property_Area\"]]"
   ]
  },
  {
   "cell_type": "code",
   "execution_count": 22,
   "id": "e9f0ac03-3587-47c1-9395-4c4750d90a10",
   "metadata": {},
   "outputs": [
    {
     "data": {
      "text/html": [
       "<div>\n",
       "<style scoped>\n",
       "    .dataframe tbody tr th:only-of-type {\n",
       "        vertical-align: middle;\n",
       "    }\n",
       "\n",
       "    .dataframe tbody tr th {\n",
       "        vertical-align: top;\n",
       "    }\n",
       "\n",
       "    .dataframe thead th {\n",
       "        text-align: right;\n",
       "    }\n",
       "</style>\n",
       "<table border=\"1\" class=\"dataframe\">\n",
       "  <thead>\n",
       "    <tr style=\"text-align: right;\">\n",
       "      <th></th>\n",
       "      <th>Gender</th>\n",
       "      <th>Self_Employed</th>\n",
       "      <th>Property_Area</th>\n",
       "    </tr>\n",
       "  </thead>\n",
       "  <tbody>\n",
       "    <tr>\n",
       "      <th>17</th>\n",
       "      <td>Male</td>\n",
       "      <td>No</td>\n",
       "      <td>Semiurban</td>\n",
       "    </tr>\n",
       "    <tr>\n",
       "      <th>10</th>\n",
       "      <td>Male</td>\n",
       "      <td>No</td>\n",
       "      <td>Urban</td>\n",
       "    </tr>\n",
       "  </tbody>\n",
       "</table>\n",
       "</div>"
      ],
      "text/plain": [
       "   Gender Self_Employed Property_Area\n",
       "17   Male            No     Semiurban\n",
       "10   Male            No         Urban"
      ]
     },
     "execution_count": 22,
     "metadata": {},
     "output_type": "execute_result"
    }
   ],
   "source": [
    "var.sample(2)"
   ]
  },
  {
   "cell_type": "code",
   "execution_count": 42,
   "id": "90609e4d-f81a-4e0a-9a9d-0920f717b2d0",
   "metadata": {},
   "outputs": [
    {
     "name": "stdout",
     "output_type": "stream",
     "text": [
      "Gender\n",
      "Male      20\n",
      "Female     2\n",
      "Name: count, dtype: int64\n",
      "The nul values are: 1\n",
      "Graphical representation is: Axes(0.125,0.11;0.775x0.77)\n"
     ]
    },
    {
     "data": {
      "image/png": "[encoded data removed]",
      "text/plain": [
       "<Figure size 640x480 with 1 Axes>"
      ]
     },
     "metadata": {},
     "output_type": "display_data"
    }
   ],
   "source": [
    "print(var[\"Gender\"].value_counts())\n",
    "print(\"The nul values are:\",var[\"Gender\"].isnull().sum())\n",
    "print(\"Graphical representation is:\",sns.countplot(x=var[\"Gender\"],stat=\"percent\"))"
   ]
  },
  {
   "cell_type": "code",
   "execution_count": 43,
   "id": "64feff63-68e1-4c68-afca-72a57406e075",
   "metadata": {},
   "outputs": [
    {
     "name": "stdout",
     "output_type": "stream",
     "text": [
      "Self_Employed\n",
      "No     18\n",
      "Yes     2\n",
      "Name: count, dtype: int64\n",
      "The nul values are: 3\n",
      "Graphical representation is: Axes(0.125,0.11;0.775x0.77)\n"
     ]
    },
    {
     "data": {
      "image/png": "[encoded data removed]",
      "text/plain": [
       "<Figure size 640x480 with 1 Axes>"
      ]
     },
     "metadata": {},
     "output_type": "display_data"
    }
   ],
   "source": [
    "print(var[\"Self_Employed\"].value_counts())\n",
    "print(\"The nul values are:\",var[\"Self_Employed\"].isnull().sum())\n",
    "print(\"Graphical representation is:\",sns.countplot(x=var[\"Self_Employed\"],stat=\"percent\"))"
   ]
  },
  {
   "cell_type": "code",
   "execution_count": 44,
   "id": "b8fc1add-6ce0-4fea-87ee-0056fd94ec09",
   "metadata": {},
   "outputs": [
    {
     "name": "stdout",
     "output_type": "stream",
     "text": [
      "Property_Area\n",
      "Urban        14\n",
      "Rural         5\n",
      "Semiurban     2\n",
      "Name: count, dtype: int64\n",
      "The nul values are: 2\n",
      "Graphical representation is: Axes(0.125,0.11;0.775x0.77)\n"
     ]
    },
    {
     "data": {
      "image/png": "[encoded data removed]",
      "text/plain": [
       "<Figure size 640x480 with 1 Axes>"
      ]
     },
     "metadata": {},
     "output_type": "display_data"
    }
   ],
   "source": [
    "print(var[\"Property_Area\"].value_counts())\n",
    "print(\"The nul values are:\",var[\"Property_Area\"].isnull().sum())\n",
    "print(\"Graphical representation is:\",sns.countplot(x=var[\"Property_Area\"],stat=\"percent\"))"
   ]
  },
  {
   "cell_type": "code",
   "execution_count": 54,
   "id": "1f4c590e-bf60-47bc-8b19-04656378927d",
   "metadata": {},
   "outputs": [],
   "source": [
    "var[\"Property_Area\"]=var[\"Property_Area\"].fillna('Urban')\n",
    "#Now again check the the null value of the colum Property_Area"
   ]
  },
  {
   "cell_type": "code",
   "execution_count": 55,
   "id": "07ae205d-de1b-4ea1-84db-f06a62218d79",
   "metadata": {},
   "outputs": [
    {
     "name": "stdout",
     "output_type": "stream",
     "text": [
      "NOw the null value inside the property area are: 0\n"
     ]
    }
   ],
   "source": [
    "print(f\"NOw the null value inside the property area are:\",var[\"Property_Area\"].isnull().sum())"
   ]
  },
  {
   "cell_type": "code",
   "execution_count": 58,
   "id": "c3976db5-1706-4e55-bec3-e7716303a317",
   "metadata": {},
   "outputs": [],
   "source": [
    "var[\"Self_Employed\"]=var[\"Self_Employed\"].fillna('No')\n",
    "#Now again check the the null value of the colum Self_Employed"
   ]
  },
  {
   "cell_type": "code",
   "execution_count": 60,
   "id": "8edeb641-f5a7-4609-83d2-ef360c7fcd5c",
   "metadata": {},
   "outputs": [
    {
     "name": "stdout",
     "output_type": "stream",
     "text": [
      "NOw the null value inside the Self_Employed are: 0\n"
     ]
    }
   ],
   "source": [
    "print(f\"NOw the null value inside the Self_Employed are:\",var[\"Self_Employed\"].isnull().sum())"
   ]
  },
  {
   "cell_type": "code",
   "execution_count": 63,
   "id": "620ebaa4-a268-4346-8b7d-c8977e6542b1",
   "metadata": {},
   "outputs": [
    {
     "data": {
      "text/plain": [
       "0"
      ]
     },
     "execution_count": 63,
     "metadata": {},
     "output_type": "execute_result"
    }
   ],
   "source": [
    "#Now fill the Gender missing value with Gender Mode\n",
    "var[\"Gender\"]=var[\"Gender\"].fillna(\"Male\")\n",
    "#Now checking that the values are filled r not\n",
    "var[\"Gender\"].isnull().sum()"
   ]
  },
  {
   "cell_type": "code",
   "execution_count": 64,
   "id": "7e2cd960-75ed-4ab4-a632-e8226235c70a",
   "metadata": {},
   "outputs": [
    {
     "data": {
      "text/plain": [
       "Gender           0\n",
       "Self_Employed    0\n",
       "Property_Area    0\n",
       "dtype: int64"
      ]
     },
     "execution_count": 64,
     "metadata": {},
     "output_type": "execute_result"
    }
   ],
   "source": [
    "var.isnull().sum()"
   ]
  },
  {
   "cell_type": "code",
   "execution_count": 67,
   "id": "40d307c7-e5f3-4ef4-aaf4-d9b5bf05e54c",
   "metadata": {},
   "outputs": [
    {
     "data": {
      "text/html": [
       "<div>\n",
       "<style scoped>\n",
       "    .dataframe tbody tr th:only-of-type {\n",
       "        vertical-align: middle;\n",
       "    }\n",
       "\n",
       "    .dataframe tbody tr th {\n",
       "        vertical-align: top;\n",
       "    }\n",
       "\n",
       "    .dataframe thead th {\n",
       "        text-align: right;\n",
       "    }\n",
       "</style>\n",
       "<table border=\"1\" class=\"dataframe\">\n",
       "  <thead>\n",
       "    <tr style=\"text-align: right;\">\n",
       "      <th></th>\n",
       "      <th>Loan_ID</th>\n",
       "      <th>Gender</th>\n",
       "      <th>Married</th>\n",
       "      <th>Dependents</th>\n",
       "      <th>Education</th>\n",
       "      <th>Self_Employed</th>\n",
       "      <th>ApplicantIncome</th>\n",
       "      <th>CoapplicantIncome</th>\n",
       "      <th>LoanAmount</th>\n",
       "      <th>Loan_Amount_Term</th>\n",
       "      <th>Credit_History</th>\n",
       "      <th>Property_Area</th>\n",
       "      <th>Loan_Status</th>\n",
       "    </tr>\n",
       "  </thead>\n",
       "  <tbody>\n",
       "    <tr>\n",
       "      <th>2</th>\n",
       "      <td>LP001006</td>\n",
       "      <td>Male</td>\n",
       "      <td>Yes</td>\n",
       "      <td>0</td>\n",
       "      <td>Not Graduate</td>\n",
       "      <td>No</td>\n",
       "      <td>2583</td>\n",
       "      <td>2358</td>\n",
       "      <td>120</td>\n",
       "      <td>360</td>\n",
       "      <td>1</td>\n",
       "      <td>Urban</td>\n",
       "      <td>Y</td>\n",
       "    </tr>\n",
       "    <tr>\n",
       "      <th>5</th>\n",
       "      <td>LP001024</td>\n",
       "      <td>Male</td>\n",
       "      <td>Yes</td>\n",
       "      <td>2</td>\n",
       "      <td>Graduate</td>\n",
       "      <td>No</td>\n",
       "      <td>3200</td>\n",
       "      <td>700</td>\n",
       "      <td>70</td>\n",
       "      <td>360</td>\n",
       "      <td>1</td>\n",
       "      <td>Urban</td>\n",
       "      <td>Y</td>\n",
       "    </tr>\n",
       "    <tr>\n",
       "      <th>14</th>\n",
       "      <td>LP001043</td>\n",
       "      <td>Male</td>\n",
       "      <td>Yes</td>\n",
       "      <td>0</td>\n",
       "      <td>Not Graduate</td>\n",
       "      <td>No</td>\n",
       "      <td>7660</td>\n",
       "      <td>0</td>\n",
       "      <td>104</td>\n",
       "      <td>360</td>\n",
       "      <td>0</td>\n",
       "      <td>Urban</td>\n",
       "      <td>N</td>\n",
       "    </tr>\n",
       "  </tbody>\n",
       "</table>\n",
       "</div>"
      ],
      "text/plain": [
       "     Loan_ID Gender Married  Dependents     Education Self_Employed  \\\n",
       "2   LP001006   Male     Yes           0  Not Graduate            No   \n",
       "5   LP001024   Male     Yes           2      Graduate            No   \n",
       "14  LP001043   Male     Yes           0  Not Graduate            No   \n",
       "\n",
       "    ApplicantIncome  CoapplicantIncome  LoanAmount Loan_Amount_Term  \\\n",
       "2              2583               2358         120              360   \n",
       "5              3200                700          70              360   \n",
       "14             7660                  0         104              360   \n",
       "\n",
       "   Credit_History Property_Area Loan_Status  \n",
       "2               1         Urban           Y  \n",
       "5               1         Urban           Y  \n",
       "14              0         Urban           N  "
      ]
     },
     "execution_count": 67,
     "metadata": {},
     "output_type": "execute_result"
    }
   ],
   "source": [
    "#Again doing the same thing but with the sklearn imputer class.\n",
    "df=pd.read_csv(\"loan_data.csv\")\n",
    "df.sample(3)"
   ]
  },
  {
   "cell_type": "code",
   "execution_count": 72,
   "id": "2cc2e1c2-b078-4492-8dd2-21d0635bed7c",
   "metadata": {},
   "outputs": [
    {
     "data": {
      "text/plain": [
       "Gender           1\n",
       "Self_Employed    3\n",
       "Property_Area    2\n",
       "dtype: int64"
      ]
     },
     "execution_count": 72,
     "metadata": {},
     "output_type": "execute_result"
    }
   ],
   "source": [
    "df.isnull().sum()"
   ]
  },
  {
   "cell_type": "code",
   "execution_count": 75,
   "id": "e12c6916-6481-40db-91e4-b17ebfcc22ae",
   "metadata": {},
   "outputs": [],
   "source": [
    "si=SimpleImputer(strategy=\"most_frequent\")"
   ]
  },
  {
   "cell_type": "code",
   "execution_count": 78,
   "id": "b92b5035-3408-4e97-9c87-fe9a5f274dd0",
   "metadata": {},
   "outputs": [],
   "source": [
    "df[[\"Gender\"]]=si.fit_transform(df[[\"Gender\"]])"
   ]
  },
  {
   "cell_type": "code",
   "execution_count": 80,
   "id": "54e0a269-13d9-43da-9801-63ddd7209eb6",
   "metadata": {},
   "outputs": [
    {
     "data": {
      "text/plain": [
       "0.0"
      ]
     },
     "execution_count": 80,
     "metadata": {},
     "output_type": "execute_result"
    }
   ],
   "source": [
    "df[\"Gender\"].isnull().mean()"
   ]
  },
  {
   "cell_type": "code",
   "execution_count": 87,
   "id": "d542a9ce-1785-42f6-a1dc-ec20c6c15ead",
   "metadata": {},
   "outputs": [
    {
     "data": {
      "text/plain": [
       "Self_Employed\n",
       "No     18\n",
       "Yes     2\n",
       "Name: count, dtype: int64"
      ]
     },
     "execution_count": 87,
     "metadata": {},
     "output_type": "execute_result"
    }
   ],
   "source": [
    "s2=SimpleImputer(strategy=\"constant\",fill_value=\"Missing\")\n",
    "df[\"Self_Employed\"].value_counts()"
   ]
  },
  {
   "cell_type": "code",
   "execution_count": 89,
   "id": "2a0e7359-1543-4d1a-aa03-c1f6e842b91e",
   "metadata": {},
   "outputs": [],
   "source": [
    "df[[\"Self_Employed\"]]=s2.fit_transform(df[[\"Self_Employed\"]])"
   ]
  },
  {
   "cell_type": "code",
   "execution_count": 93,
   "id": "f46106c9-9e97-4a74-8ba0-ab5cb212ad33",
   "metadata": {},
   "outputs": [
    {
     "data": {
      "text/plain": [
       "<Axes: xlabel='Self_Employed'>"
      ]
     },
     "execution_count": 93,
     "metadata": {},
     "output_type": "execute_result"
    },
    {
     "data": {
      "image/png": "[encoded data removed]",
      "text/plain": [
       "<Figure size 640x480 with 1 Axes>"
      ]
     },
     "metadata": {},
     "output_type": "display_data"
    }
   ],
   "source": [
    "df[\"Self_Employed\"].value_counts().plot(kind='bar')"
   ]
  },
  {
   "cell_type": "code",
   "execution_count": 94,
   "id": "f54fee3d-b388-4463-9b48-de9972e15a22",
   "metadata": {},
   "outputs": [
    {
     "data": {
      "text/plain": [
       "Gender           0\n",
       "Self_Employed    0\n",
       "Property_Area    2\n",
       "dtype: int64"
      ]
     },
     "execution_count": 94,
     "metadata": {},
     "output_type": "execute_result"
    }
   ],
   "source": [
    "df.isnull().sum()"
   ]
  },
  {
   "cell_type": "code",
   "execution_count": 97,
   "id": "d6591583-59dd-4a53-baa2-37763e64c914",
   "metadata": {},
   "outputs": [
    {
     "data": {
      "text/plain": [
       "2"
      ]
     },
     "execution_count": 97,
     "metadata": {},
     "output_type": "execute_result"
    }
   ],
   "source": [
    "df[\"Property_Area\"].isnull().sum()"
   ]
  },
  {
   "cell_type": "code",
   "execution_count": 98,
   "id": "89290500-5f0c-4db7-9888-ef6da253acaf",
   "metadata": {},
   "outputs": [],
   "source": [
    "s3=SimpleImputer(strategy=\"most_frequent\")"
   ]
  },
  {
   "cell_type": "code",
   "execution_count": 99,
   "id": "b32c1c5f-8e2d-4806-ba32-e601e8949b25",
   "metadata": {},
   "outputs": [],
   "source": [
    "df[['Property_Area']]=s3.fit_transform(df[[\"Property_Area\"]])"
   ]
  },
  {
   "cell_type": "code",
   "execution_count": 101,
   "id": "616486d0-04e5-4df3-9949-90b8cc1e9778",
   "metadata": {},
   "outputs": [
    {
     "data": {
      "text/plain": [
       "0"
      ]
     },
     "execution_count": 101,
     "metadata": {},
     "output_type": "execute_result"
    }
   ],
   "source": [
    "df[\"Property_Area\"].isnull().sum()"
   ]
  },
  {
   "cell_type": "code",
   "execution_count": 107,
   "id": "ca52f353-5d32-4546-a0ec-e20089de141b",
   "metadata": {},
   "outputs": [
    {
     "data": {
      "text/plain": [
       "<Axes: xlabel='Property_Area'>"
      ]
     },
     "execution_count": 107,
     "metadata": {},
     "output_type": "execute_result"
    },
    {
     "data": {
      "image/png": "[encoded data removed]",
      "text/plain": [
       "<Figure size 640x480 with 1 Axes>"
      ]
     },
     "metadata": {},
     "output_type": "display_data"
    }
   ],
   "source": [
    "df[[\"Property_Area\"]].value_counts().plot(kind=\"bar\")"
   ]
  },
  {
   "cell_type": "code",
   "execution_count": null,
   "id": "6f23ee63-21a6-48e8-becb-4d5ba2488c0f",
   "metadata": {},
   "outputs": [],
   "source": []
  }
 ],
 "metadata": {
  "kernelspec": {
   "display_name": "Python 3 (ipykernel)",
   "language": "python",
   "name": "python3"
  },
  "language_info": {
   "codemirror_mode": {
    "name": "ipython",
    "version": 3
   },
   "file_extension": ".py",
   "mimetype": "text/x-python",
   "name": "python",
   "nbconvert_exporter": "python",
   "pygments_lexer": "ipython3",
   "version": "3.12.0"
  },
  "widgets": {
   "application/vnd.jupyter.widget-state+json": {
    "state": {},
    "version_major": 2,
    "version_minor": 0
   }
  }
 },
 "nbformat": 4,
 "nbformat_minor": 5
}
