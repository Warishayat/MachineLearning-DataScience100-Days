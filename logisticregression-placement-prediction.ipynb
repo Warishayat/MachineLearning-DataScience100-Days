{
 "cells": [
  {
   "cell_type": "code",
   "execution_count": 1,
   "id": "68f0ac5c",
   "metadata": {
    "_cell_guid": "b1076dfc-b9ad-4769-8c92-a6c4dae69d19",
    "_uuid": "8f2839f25d086af736a60e9eeb907d3b93b6e0e5",
    "execution": {
     "iopub.execute_input": "2024-03-11T22:23:52.939377Z",
     "iopub.status.busy": "2024-03-11T22:23:52.938342Z",
     "iopub.status.idle": "2024-03-11T22:23:56.258648Z",
     "shell.execute_reply": "2024-03-11T22:23:56.257494Z"
    },
    "papermill": {
     "duration": 3.33539,
     "end_time": "2024-03-11T22:23:56.261534",
     "exception": false,
     "start_time": "2024-03-11T22:23:52.926144",
     "status": "completed"
    },
    "tags": []
   },
   "outputs": [
    {
     "name": "stdout",
     "output_type": "stream",
     "text": [
      "/kaggle/input/college-placement/placement-dataset.csv\n"
     ]
    }
   ],
   "source": [
    "import numpy as np # linear algebra\n",
    "import pandas as pd # data processing, CSV file I/O (e.g. pd.read_csv)\n",
    "import seaborn as sns #for ploting the data\n",
    "from sklearn.preprocessing import OneHotEncoder #To encode the city values\n",
    "from sklearn.model_selection import train_test_split\n",
    "from sklearn.linear_model import LogisticRegression\n",
    "from sklearn.metrics import accuracy_score\n",
    "import os\n",
    "for dirname, _, filenames in os.walk('/kaggle/input'):\n",
    "    for filename in filenames:\n",
    "        print(os.path.join(dirname, filename))\n"
   ]
  },
  {
   "cell_type": "code",
   "execution_count": 2,
   "id": "f5fa7ef8",
   "metadata": {
    "execution": {
     "iopub.execute_input": "2024-03-11T22:23:56.284458Z",
     "iopub.status.busy": "2024-03-11T22:23:56.283874Z",
     "iopub.status.idle": "2024-03-11T22:23:56.305966Z",
     "shell.execute_reply": "2024-03-11T22:23:56.304782Z"
    },
    "papermill": {
     "duration": 0.036906,
     "end_time": "2024-03-11T22:23:56.308675",
     "exception": false,
     "start_time": "2024-03-11T22:23:56.271769",
     "status": "completed"
    },
    "tags": []
   },
   "outputs": [
    {
     "data": {
      "text/plain": [
       "(100, 4)"
      ]
     },
     "execution_count": 2,
     "metadata": {},
     "output_type": "execute_result"
    }
   ],
   "source": [
    "df=pd.read_csv(\"/kaggle/input/college-placement/placement-dataset.csv\")\n",
    "df.shape"
   ]
  },
  {
   "cell_type": "code",
   "execution_count": 3,
   "id": "4556169e",
   "metadata": {
    "execution": {
     "iopub.execute_input": "2024-03-11T22:23:56.331017Z",
     "iopub.status.busy": "2024-03-11T22:23:56.330631Z",
     "iopub.status.idle": "2024-03-11T22:23:56.355722Z",
     "shell.execute_reply": "2024-03-11T22:23:56.354393Z"
    },
    "papermill": {
     "duration": 0.039784,
     "end_time": "2024-03-11T22:23:56.358703",
     "exception": false,
     "start_time": "2024-03-11T22:23:56.318919",
     "status": "completed"
    },
    "tags": []
   },
   "outputs": [
    {
     "data": {
      "text/plain": [
       "city         0\n",
       "cgpa         0\n",
       "iq           4\n",
       "placement    0\n",
       "dtype: int64"
      ]
     },
     "execution_count": 3,
     "metadata": {},
     "output_type": "execute_result"
    }
   ],
   "source": [
    "#to Check the null values in the data\n",
    "df[[\"cgpa\"]].mean()\n",
    "df[[\"cgpa\"]]=df[[\"cgpa\"]].fillna(df[[\"cgpa\"]].mean())\n",
    "df.isnull().sum() #i filled up the null value of cgpa with the mean value"
   ]
  },
  {
   "cell_type": "code",
   "execution_count": 4,
   "id": "4dc0ec19",
   "metadata": {
    "execution": {
     "iopub.execute_input": "2024-03-11T22:23:56.381049Z",
     "iopub.status.busy": "2024-03-11T22:23:56.380663Z",
     "iopub.status.idle": "2024-03-11T22:23:56.394104Z",
     "shell.execute_reply": "2024-03-11T22:23:56.393164Z"
    },
    "papermill": {
     "duration": 0.027334,
     "end_time": "2024-03-11T22:23:56.396461",
     "exception": false,
     "start_time": "2024-03-11T22:23:56.369127",
     "status": "completed"
    },
    "tags": []
   },
   "outputs": [
    {
     "data": {
      "text/plain": [
       "city         0\n",
       "cgpa         0\n",
       "iq           0\n",
       "placement    0\n",
       "dtype: int64"
      ]
     },
     "execution_count": 4,
     "metadata": {},
     "output_type": "execute_result"
    }
   ],
   "source": [
    "df[[\"iq\"]].mean()\n",
    "df[[\"iq\"]]=df[[\"iq\"]].fillna(df[[\"iq\"]].mean())\n",
    "df.isnull().sum() #i filled up the null value of iq with the mean value of iq."
   ]
  },
  {
   "cell_type": "code",
   "execution_count": 5,
   "id": "947965e5",
   "metadata": {
    "execution": {
     "iopub.execute_input": "2024-03-11T22:23:56.419637Z",
     "iopub.status.busy": "2024-03-11T22:23:56.419144Z",
     "iopub.status.idle": "2024-03-11T22:23:56.428829Z",
     "shell.execute_reply": "2024-03-11T22:23:56.427570Z"
    },
    "papermill": {
     "duration": 0.024262,
     "end_time": "2024-03-11T22:23:56.431348",
     "exception": false,
     "start_time": "2024-03-11T22:23:56.407086",
     "status": "completed"
    },
    "tags": []
   },
   "outputs": [
    {
     "data": {
      "text/plain": [
       "city         0\n",
       "cgpa         0\n",
       "iq           0\n",
       "placement    0\n",
       "dtype: int64"
      ]
     },
     "execution_count": 5,
     "metadata": {},
     "output_type": "execute_result"
    }
   ],
   "source": [
    "df.isnull().sum()"
   ]
  },
  {
   "cell_type": "code",
   "execution_count": 6,
   "id": "eac31c9a",
   "metadata": {
    "execution": {
     "iopub.execute_input": "2024-03-11T22:23:56.454875Z",
     "iopub.status.busy": "2024-03-11T22:23:56.454452Z",
     "iopub.status.idle": "2024-03-11T22:23:56.479752Z",
     "shell.execute_reply": "2024-03-11T22:23:56.477939Z"
    },
    "papermill": {
     "duration": 0.040466,
     "end_time": "2024-03-11T22:23:56.482701",
     "exception": false,
     "start_time": "2024-03-11T22:23:56.442235",
     "status": "completed"
    },
    "tags": []
   },
   "outputs": [
    {
     "name": "stdout",
     "output_type": "stream",
     "text": [
      "<class 'pandas.core.frame.DataFrame'>\n",
      "RangeIndex: 100 entries, 0 to 99\n",
      "Data columns (total 4 columns):\n",
      " #   Column     Non-Null Count  Dtype  \n",
      "---  ------     --------------  -----  \n",
      " 0   city       100 non-null    object \n",
      " 1   cgpa       100 non-null    float64\n",
      " 2   iq         100 non-null    float64\n",
      " 3   placement  100 non-null    int64  \n",
      "dtypes: float64(2), int64(1), object(1)\n",
      "memory usage: 3.2+ KB\n"
     ]
    }
   ],
   "source": [
    "df.info()"
   ]
  },
  {
   "cell_type": "code",
   "execution_count": 7,
   "id": "dab00ca7",
   "metadata": {
    "execution": {
     "iopub.execute_input": "2024-03-11T22:23:56.507036Z",
     "iopub.status.busy": "2024-03-11T22:23:56.506630Z",
     "iopub.status.idle": "2024-03-11T22:23:56.538879Z",
     "shell.execute_reply": "2024-03-11T22:23:56.537573Z"
    },
    "papermill": {
     "duration": 0.047325,
     "end_time": "2024-03-11T22:23:56.541563",
     "exception": false,
     "start_time": "2024-03-11T22:23:56.494238",
     "status": "completed"
    },
    "tags": []
   },
   "outputs": [
    {
     "data": {
      "text/html": [
       "<div>\n",
       "<style scoped>\n",
       "    .dataframe tbody tr th:only-of-type {\n",
       "        vertical-align: middle;\n",
       "    }\n",
       "\n",
       "    .dataframe tbody tr th {\n",
       "        vertical-align: top;\n",
       "    }\n",
       "\n",
       "    .dataframe thead th {\n",
       "        text-align: right;\n",
       "    }\n",
       "</style>\n",
       "<table border=\"1\" class=\"dataframe\">\n",
       "  <thead>\n",
       "    <tr style=\"text-align: right;\">\n",
       "      <th></th>\n",
       "      <th>cgpa</th>\n",
       "      <th>iq</th>\n",
       "      <th>placement</th>\n",
       "    </tr>\n",
       "  </thead>\n",
       "  <tbody>\n",
       "    <tr>\n",
       "      <th>count</th>\n",
       "      <td>100.000000</td>\n",
       "      <td>100.000000</td>\n",
       "      <td>100.000000</td>\n",
       "    </tr>\n",
       "    <tr>\n",
       "      <th>mean</th>\n",
       "      <td>5.965217</td>\n",
       "      <td>117.916667</td>\n",
       "      <td>0.460000</td>\n",
       "    </tr>\n",
       "    <tr>\n",
       "      <th>std</th>\n",
       "      <td>1.116853</td>\n",
       "      <td>45.955988</td>\n",
       "      <td>0.500908</td>\n",
       "    </tr>\n",
       "    <tr>\n",
       "      <th>min</th>\n",
       "      <td>3.300000</td>\n",
       "      <td>1.000000</td>\n",
       "      <td>0.000000</td>\n",
       "    </tr>\n",
       "    <tr>\n",
       "      <th>25%</th>\n",
       "      <td>5.100000</td>\n",
       "      <td>90.750000</td>\n",
       "      <td>0.000000</td>\n",
       "    </tr>\n",
       "    <tr>\n",
       "      <th>50%</th>\n",
       "      <td>5.965217</td>\n",
       "      <td>120.500000</td>\n",
       "      <td>0.000000</td>\n",
       "    </tr>\n",
       "    <tr>\n",
       "      <th>75%</th>\n",
       "      <td>6.800000</td>\n",
       "      <td>143.000000</td>\n",
       "      <td>1.000000</td>\n",
       "    </tr>\n",
       "    <tr>\n",
       "      <th>max</th>\n",
       "      <td>8.500000</td>\n",
       "      <td>233.000000</td>\n",
       "      <td>1.000000</td>\n",
       "    </tr>\n",
       "  </tbody>\n",
       "</table>\n",
       "</div>"
      ],
      "text/plain": [
       "             cgpa          iq   placement\n",
       "count  100.000000  100.000000  100.000000\n",
       "mean     5.965217  117.916667    0.460000\n",
       "std      1.116853   45.955988    0.500908\n",
       "min      3.300000    1.000000    0.000000\n",
       "25%      5.100000   90.750000    0.000000\n",
       "50%      5.965217  120.500000    0.000000\n",
       "75%      6.800000  143.000000    1.000000\n",
       "max      8.500000  233.000000    1.000000"
      ]
     },
     "execution_count": 7,
     "metadata": {},
     "output_type": "execute_result"
    }
   ],
   "source": [
    "df.describe()"
   ]
  },
  {
   "cell_type": "code",
   "execution_count": 8,
   "id": "d366e79c",
   "metadata": {
    "execution": {
     "iopub.execute_input": "2024-03-11T22:23:56.566745Z",
     "iopub.status.busy": "2024-03-11T22:23:56.565876Z",
     "iopub.status.idle": "2024-03-11T22:23:56.958907Z",
     "shell.execute_reply": "2024-03-11T22:23:56.957347Z"
    },
    "papermill": {
     "duration": 0.408083,
     "end_time": "2024-03-11T22:23:56.961773",
     "exception": false,
     "start_time": "2024-03-11T22:23:56.553690",
     "status": "completed"
    },
    "tags": []
   },
   "outputs": [
    {
     "data": {
      "text/plain": [
       "<Axes: xlabel='city', ylabel='cgpa'>"
      ]
     },
     "execution_count": 8,
     "metadata": {},
     "output_type": "execute_result"
    },
    {
     "data": {
      "image/png": "[encoded data removed]",
      "text/plain": [
       "<Figure size 640x480 with 1 Axes>"
      ]
     },
     "metadata": {},
     "output_type": "display_data"
    }
   ],
   "source": [
    "sns.barplot(data=df,x=\"city\",y=\"cgpa\") #New york student has high cgpa"
   ]
  },
  {
   "cell_type": "code",
   "execution_count": 9,
   "id": "d0f77e81",
   "metadata": {
    "execution": {
     "iopub.execute_input": "2024-03-11T22:23:56.987763Z",
     "iopub.status.busy": "2024-03-11T22:23:56.987285Z",
     "iopub.status.idle": "2024-03-11T22:23:57.341177Z",
     "shell.execute_reply": "2024-03-11T22:23:57.339697Z"
    },
    "papermill": {
     "duration": 0.370424,
     "end_time": "2024-03-11T22:23:57.344213",
     "exception": false,
     "start_time": "2024-03-11T22:23:56.973789",
     "status": "completed"
    },
    "tags": []
   },
   "outputs": [
    {
     "data": {
      "text/plain": [
       "<Axes: xlabel='city', ylabel='iq'>"
      ]
     },
     "execution_count": 9,
     "metadata": {},
     "output_type": "execute_result"
    },
    {
     "data": {
      "image/png": "[encoded data removed]",
      "text/plain": [
       "<Figure size 640x480 with 1 Axes>"
      ]
     },
     "metadata": {},
     "output_type": "display_data"
    }
   ],
   "source": [
    "sns.barplot(data=df,x=\"city\",y=\"iq\") #chicago student has high iq."
   ]
  },
  {
   "cell_type": "code",
   "execution_count": 10,
   "id": "efc42971",
   "metadata": {
    "execution": {
     "iopub.execute_input": "2024-03-11T22:23:57.371630Z",
     "iopub.status.busy": "2024-03-11T22:23:57.370386Z",
     "iopub.status.idle": "2024-03-11T22:23:57.387731Z",
     "shell.execute_reply": "2024-03-11T22:23:57.386533Z"
    },
    "papermill": {
     "duration": 0.033764,
     "end_time": "2024-03-11T22:23:57.390627",
     "exception": false,
     "start_time": "2024-03-11T22:23:57.356863",
     "status": "completed"
    },
    "tags": []
   },
   "outputs": [
    {
     "data": {
      "text/html": [
       "<div>\n",
       "<style scoped>\n",
       "    .dataframe tbody tr th:only-of-type {\n",
       "        vertical-align: middle;\n",
       "    }\n",
       "\n",
       "    .dataframe tbody tr th {\n",
       "        vertical-align: top;\n",
       "    }\n",
       "\n",
       "    .dataframe thead th {\n",
       "        text-align: right;\n",
       "    }\n",
       "</style>\n",
       "<table border=\"1\" class=\"dataframe\">\n",
       "  <thead>\n",
       "    <tr style=\"text-align: right;\">\n",
       "      <th></th>\n",
       "      <th>city</th>\n",
       "      <th>cgpa</th>\n",
       "      <th>iq</th>\n",
       "      <th>placement</th>\n",
       "    </tr>\n",
       "  </thead>\n",
       "  <tbody>\n",
       "    <tr>\n",
       "      <th>67</th>\n",
       "      <td>Los Angeles</td>\n",
       "      <td>5.0</td>\n",
       "      <td>118.000000</td>\n",
       "      <td>0</td>\n",
       "    </tr>\n",
       "    <tr>\n",
       "      <th>71</th>\n",
       "      <td>Chicago</td>\n",
       "      <td>6.1</td>\n",
       "      <td>117.916667</td>\n",
       "      <td>1</td>\n",
       "    </tr>\n",
       "  </tbody>\n",
       "</table>\n",
       "</div>"
      ],
      "text/plain": [
       "           city  cgpa          iq  placement\n",
       "67  Los Angeles   5.0  118.000000          0\n",
       "71      Chicago   6.1  117.916667          1"
      ]
     },
     "execution_count": 10,
     "metadata": {},
     "output_type": "execute_result"
    }
   ],
   "source": [
    "df.sample(2)"
   ]
  },
  {
   "cell_type": "code",
   "execution_count": 11,
   "id": "5839e49a",
   "metadata": {
    "execution": {
     "iopub.execute_input": "2024-03-11T22:23:57.417823Z",
     "iopub.status.busy": "2024-03-11T22:23:57.417370Z",
     "iopub.status.idle": "2024-03-11T22:23:57.428519Z",
     "shell.execute_reply": "2024-03-11T22:23:57.427284Z"
    },
    "papermill": {
     "duration": 0.027734,
     "end_time": "2024-03-11T22:23:57.431029",
     "exception": false,
     "start_time": "2024-03-11T22:23:57.403295",
     "status": "completed"
    },
    "tags": []
   },
   "outputs": [
    {
     "data": {
      "text/plain": [
       "city\n",
       "New York       34\n",
       "Los Angeles    33\n",
       "Chicago        33\n",
       "Name: count, dtype: int64"
      ]
     },
     "execution_count": 11,
     "metadata": {},
     "output_type": "execute_result"
    }
   ],
   "source": [
    "df[\"city\"].value_counts()"
   ]
  },
  {
   "cell_type": "code",
   "execution_count": 12,
   "id": "6627f8d0",
   "metadata": {
    "execution": {
     "iopub.execute_input": "2024-03-11T22:23:57.458605Z",
     "iopub.status.busy": "2024-03-11T22:23:57.458080Z",
     "iopub.status.idle": "2024-03-11T22:23:57.465483Z",
     "shell.execute_reply": "2024-03-11T22:23:57.464262Z"
    },
    "papermill": {
     "duration": 0.024173,
     "end_time": "2024-03-11T22:23:57.468063",
     "exception": false,
     "start_time": "2024-03-11T22:23:57.443890",
     "status": "completed"
    },
    "tags": []
   },
   "outputs": [
    {
     "data": {
      "text/plain": [
       "8.5"
      ]
     },
     "execution_count": 12,
     "metadata": {},
     "output_type": "execute_result"
    }
   ],
   "source": [
    "df[\"cgpa\"].max()"
   ]
  },
  {
   "cell_type": "code",
   "execution_count": 13,
   "id": "5a562d0c",
   "metadata": {
    "execution": {
     "iopub.execute_input": "2024-03-11T22:23:57.495427Z",
     "iopub.status.busy": "2024-03-11T22:23:57.494286Z",
     "iopub.status.idle": "2024-03-11T22:23:57.789049Z",
     "shell.execute_reply": "2024-03-11T22:23:57.787794Z"
    },
    "papermill": {
     "duration": 0.311345,
     "end_time": "2024-03-11T22:23:57.791889",
     "exception": false,
     "start_time": "2024-03-11T22:23:57.480544",
     "status": "completed"
    },
    "tags": []
   },
   "outputs": [
    {
     "data": {
      "text/plain": [
       "<Axes: xlabel='cgpa', ylabel='placement'>"
      ]
     },
     "execution_count": 13,
     "metadata": {},
     "output_type": "execute_result"
    },
    {
     "data": {
      "image/png": "[encoded data removed]",
      "text/plain": [
       "<Figure size 640x480 with 1 Axes>"
      ]
     },
     "metadata": {},
     "output_type": "display_data"
    }
   ],
   "source": [
    "sns.scatterplot(data=df,x=\"cgpa\",y=\"placement\")"
   ]
  },
  {
   "cell_type": "code",
   "execution_count": 14,
   "id": "e3f67c65",
   "metadata": {
    "execution": {
     "iopub.execute_input": "2024-03-11T22:23:57.819862Z",
     "iopub.status.busy": "2024-03-11T22:23:57.819463Z",
     "iopub.status.idle": "2024-03-11T22:23:58.040476Z",
     "shell.execute_reply": "2024-03-11T22:23:58.039493Z"
    },
    "papermill": {
     "duration": 0.238525,
     "end_time": "2024-03-11T22:23:58.043511",
     "exception": false,
     "start_time": "2024-03-11T22:23:57.804986",
     "status": "completed"
    },
    "tags": []
   },
   "outputs": [
    {
     "data": {
      "text/plain": [
       "<Axes: >"
      ]
     },
     "execution_count": 14,
     "metadata": {},
     "output_type": "execute_result"
    },
    {
     "data": {
      "image/png": "[encoded data removed]",
      "text/plain": [
       "<Figure size 640x480 with 1 Axes>"
      ]
     },
     "metadata": {},
     "output_type": "display_data"
    }
   ],
   "source": [
    "sns.boxplot(df[\"cgpa\"]) # No outlier in the cgpa "
   ]
  },
  {
   "cell_type": "code",
   "execution_count": 15,
   "id": "1be38ce6",
   "metadata": {
    "execution": {
     "iopub.execute_input": "2024-03-11T22:23:58.074192Z",
     "iopub.status.busy": "2024-03-11T22:23:58.073556Z",
     "iopub.status.idle": "2024-03-11T22:23:58.295059Z",
     "shell.execute_reply": "2024-03-11T22:23:58.294188Z"
    },
    "papermill": {
     "duration": 0.239723,
     "end_time": "2024-03-11T22:23:58.297357",
     "exception": false,
     "start_time": "2024-03-11T22:23:58.057634",
     "status": "completed"
    },
    "tags": []
   },
   "outputs": [
    {
     "data": {
      "text/plain": [
       "<Axes: >"
      ]
     },
     "execution_count": 15,
     "metadata": {},
     "output_type": "execute_result"
    },
    {
     "data": {
      "image/png": "[encoded data removed]",
      "text/plain": [
       "<Figure size 640x480 with 1 Axes>"
      ]
     },
     "metadata": {},
     "output_type": "display_data"
    }
   ],
   "source": [
    "sns.boxplot(df[\"placement\"]) # No outlier in the placement "
   ]
  },
  {
   "cell_type": "code",
   "execution_count": 16,
   "id": "ec01b075",
   "metadata": {
    "execution": {
     "iopub.execute_input": "2024-03-11T22:23:58.327331Z",
     "iopub.status.busy": "2024-03-11T22:23:58.326676Z",
     "iopub.status.idle": "2024-03-11T22:23:58.339147Z",
     "shell.execute_reply": "2024-03-11T22:23:58.337893Z"
    },
    "papermill": {
     "duration": 0.030826,
     "end_time": "2024-03-11T22:23:58.341995",
     "exception": false,
     "start_time": "2024-03-11T22:23:58.311169",
     "status": "completed"
    },
    "tags": []
   },
   "outputs": [
    {
     "data": {
      "text/html": [
       "<div>\n",
       "<style scoped>\n",
       "    .dataframe tbody tr th:only-of-type {\n",
       "        vertical-align: middle;\n",
       "    }\n",
       "\n",
       "    .dataframe tbody tr th {\n",
       "        vertical-align: top;\n",
       "    }\n",
       "\n",
       "    .dataframe thead th {\n",
       "        text-align: right;\n",
       "    }\n",
       "</style>\n",
       "<table border=\"1\" class=\"dataframe\">\n",
       "  <thead>\n",
       "    <tr style=\"text-align: right;\">\n",
       "      <th></th>\n",
       "      <th>city</th>\n",
       "      <th>cgpa</th>\n",
       "      <th>iq</th>\n",
       "      <th>placement</th>\n",
       "    </tr>\n",
       "  </thead>\n",
       "  <tbody>\n",
       "    <tr>\n",
       "      <th>0</th>\n",
       "      <td>New York</td>\n",
       "      <td>6.800000</td>\n",
       "      <td>123.0</td>\n",
       "      <td>1</td>\n",
       "    </tr>\n",
       "    <tr>\n",
       "      <th>1</th>\n",
       "      <td>Los Angeles</td>\n",
       "      <td>5.900000</td>\n",
       "      <td>106.0</td>\n",
       "      <td>0</td>\n",
       "    </tr>\n",
       "    <tr>\n",
       "      <th>2</th>\n",
       "      <td>Chicago</td>\n",
       "      <td>5.965217</td>\n",
       "      <td>121.0</td>\n",
       "      <td>0</td>\n",
       "    </tr>\n",
       "    <tr>\n",
       "      <th>3</th>\n",
       "      <td>New York</td>\n",
       "      <td>7.400000</td>\n",
       "      <td>132.0</td>\n",
       "      <td>1</td>\n",
       "    </tr>\n",
       "    <tr>\n",
       "      <th>4</th>\n",
       "      <td>Los Angeles</td>\n",
       "      <td>5.800000</td>\n",
       "      <td>142.0</td>\n",
       "      <td>0</td>\n",
       "    </tr>\n",
       "  </tbody>\n",
       "</table>\n",
       "</div>"
      ],
      "text/plain": [
       "          city      cgpa     iq  placement\n",
       "0     New York  6.800000  123.0          1\n",
       "1  Los Angeles  5.900000  106.0          0\n",
       "2      Chicago  5.965217  121.0          0\n",
       "3     New York  7.400000  132.0          1\n",
       "4  Los Angeles  5.800000  142.0          0"
      ]
     },
     "execution_count": 16,
     "metadata": {},
     "output_type": "execute_result"
    }
   ],
   "source": [
    "df.head(5)"
   ]
  },
  {
   "cell_type": "code",
   "execution_count": 17,
   "id": "1d6b599b",
   "metadata": {
    "execution": {
     "iopub.execute_input": "2024-03-11T22:23:58.372482Z",
     "iopub.status.busy": "2024-03-11T22:23:58.371763Z",
     "iopub.status.idle": "2024-03-11T22:23:58.399492Z",
     "shell.execute_reply": "2024-03-11T22:23:58.398194Z"
    },
    "papermill": {
     "duration": 0.045958,
     "end_time": "2024-03-11T22:23:58.402246",
     "exception": false,
     "start_time": "2024-03-11T22:23:58.356288",
     "status": "completed"
    },
    "tags": []
   },
   "outputs": [
    {
     "name": "stderr",
     "output_type": "stream",
     "text": [
      "/opt/conda/lib/python3.10/site-packages/sklearn/preprocessing/_encoders.py:868: FutureWarning: `sparse` was renamed to `sparse_output` in version 1.2 and will be removed in 1.4. `sparse_output` is ignored unless you leave `sparse` to its default value.\n",
      "  warnings.warn(\n"
     ]
    },
    {
     "data": {
      "text/html": [
       "<div>\n",
       "<style scoped>\n",
       "    .dataframe tbody tr th:only-of-type {\n",
       "        vertical-align: middle;\n",
       "    }\n",
       "\n",
       "    .dataframe tbody tr th {\n",
       "        vertical-align: top;\n",
       "    }\n",
       "\n",
       "    .dataframe thead th {\n",
       "        text-align: right;\n",
       "    }\n",
       "</style>\n",
       "<table border=\"1\" class=\"dataframe\">\n",
       "  <thead>\n",
       "    <tr style=\"text-align: right;\">\n",
       "      <th></th>\n",
       "      <th>city</th>\n",
       "      <th>cgpa</th>\n",
       "      <th>iq</th>\n",
       "      <th>placement</th>\n",
       "      <th>Los Angeles</th>\n",
       "      <th>new_york</th>\n",
       "    </tr>\n",
       "  </thead>\n",
       "  <tbody>\n",
       "    <tr>\n",
       "      <th>0</th>\n",
       "      <td>New York</td>\n",
       "      <td>6.800000</td>\n",
       "      <td>123.0</td>\n",
       "      <td>1</td>\n",
       "      <td>0.0</td>\n",
       "      <td>1.0</td>\n",
       "    </tr>\n",
       "    <tr>\n",
       "      <th>1</th>\n",
       "      <td>Los Angeles</td>\n",
       "      <td>5.900000</td>\n",
       "      <td>106.0</td>\n",
       "      <td>0</td>\n",
       "      <td>1.0</td>\n",
       "      <td>0.0</td>\n",
       "    </tr>\n",
       "    <tr>\n",
       "      <th>2</th>\n",
       "      <td>Chicago</td>\n",
       "      <td>5.965217</td>\n",
       "      <td>121.0</td>\n",
       "      <td>0</td>\n",
       "      <td>0.0</td>\n",
       "      <td>0.0</td>\n",
       "    </tr>\n",
       "    <tr>\n",
       "      <th>3</th>\n",
       "      <td>New York</td>\n",
       "      <td>7.400000</td>\n",
       "      <td>132.0</td>\n",
       "      <td>1</td>\n",
       "      <td>0.0</td>\n",
       "      <td>1.0</td>\n",
       "    </tr>\n",
       "    <tr>\n",
       "      <th>4</th>\n",
       "      <td>Los Angeles</td>\n",
       "      <td>5.800000</td>\n",
       "      <td>142.0</td>\n",
       "      <td>0</td>\n",
       "      <td>1.0</td>\n",
       "      <td>0.0</td>\n",
       "    </tr>\n",
       "  </tbody>\n",
       "</table>\n",
       "</div>"
      ],
      "text/plain": [
       "          city      cgpa     iq  placement  Los Angeles  new_york\n",
       "0     New York  6.800000  123.0          1          0.0       1.0\n",
       "1  Los Angeles  5.900000  106.0          0          1.0       0.0\n",
       "2      Chicago  5.965217  121.0          0          0.0       0.0\n",
       "3     New York  7.400000  132.0          1          0.0       1.0\n",
       "4  Los Angeles  5.800000  142.0          0          1.0       0.0"
      ]
     },
     "execution_count": 17,
     "metadata": {},
     "output_type": "execute_result"
    }
   ],
   "source": [
    "Ohe=OneHotEncoder(drop=\"first\",sparse=False)\n",
    "df[[\"Los Angeles\",\"new_york\"]]=Ohe.fit_transform(df[[\"city\"]]) #New York       34 ,Los Angeles    33\n",
    "df.head(5)"
   ]
  },
  {
   "cell_type": "code",
   "execution_count": 18,
   "id": "2f64e13e",
   "metadata": {
    "execution": {
     "iopub.execute_input": "2024-03-11T22:23:58.433992Z",
     "iopub.status.busy": "2024-03-11T22:23:58.433584Z",
     "iopub.status.idle": "2024-03-11T22:23:58.440341Z",
     "shell.execute_reply": "2024-03-11T22:23:58.438873Z"
    },
    "papermill": {
     "duration": 0.026418,
     "end_time": "2024-03-11T22:23:58.443205",
     "exception": false,
     "start_time": "2024-03-11T22:23:58.416787",
     "status": "completed"
    },
    "tags": []
   },
   "outputs": [],
   "source": [
    "df.drop(columns=[\"city\"],inplace=True)"
   ]
  },
  {
   "cell_type": "code",
   "execution_count": 19,
   "id": "50804745",
   "metadata": {
    "execution": {
     "iopub.execute_input": "2024-03-11T22:23:58.474907Z",
     "iopub.status.busy": "2024-03-11T22:23:58.474018Z",
     "iopub.status.idle": "2024-03-11T22:23:58.480962Z",
     "shell.execute_reply": "2024-03-11T22:23:58.479775Z"
    },
    "papermill": {
     "duration": 0.025913,
     "end_time": "2024-03-11T22:23:58.483612",
     "exception": false,
     "start_time": "2024-03-11T22:23:58.457699",
     "status": "completed"
    },
    "tags": []
   },
   "outputs": [],
   "source": [
    "x=df[[\"cgpa\",\"iq\",\"Los Angeles\",\"new_york\"]]\n",
    "y=df[[\"placement\"]]"
   ]
  },
  {
   "cell_type": "code",
   "execution_count": 20,
   "id": "a98cb410",
   "metadata": {
    "execution": {
     "iopub.execute_input": "2024-03-11T22:23:58.519169Z",
     "iopub.status.busy": "2024-03-11T22:23:58.518438Z",
     "iopub.status.idle": "2024-03-11T22:23:58.542966Z",
     "shell.execute_reply": "2024-03-11T22:23:58.541500Z"
    },
    "papermill": {
     "duration": 0.045848,
     "end_time": "2024-03-11T22:23:58.545580",
     "exception": false,
     "start_time": "2024-03-11T22:23:58.499732",
     "status": "completed"
    },
    "tags": []
   },
   "outputs": [
    {
     "data": {
      "text/plain": [
       "placement\n",
       "0    70\n",
       "1    70\n",
       "dtype: int64"
      ]
     },
     "execution_count": 20,
     "metadata": {},
     "output_type": "execute_result"
    }
   ],
   "source": [
    "pd.crosstab(df[\"iq\"],df[\"placement\"]).count() #placement ratio with iq"
   ]
  },
  {
   "cell_type": "code",
   "execution_count": 21,
   "id": "031bc8b0",
   "metadata": {
    "execution": {
     "iopub.execute_input": "2024-03-11T22:23:58.588078Z",
     "iopub.status.busy": "2024-03-11T22:23:58.586966Z",
     "iopub.status.idle": "2024-03-11T22:23:58.608243Z",
     "shell.execute_reply": "2024-03-11T22:23:58.606877Z"
    },
    "papermill": {
     "duration": 0.044581,
     "end_time": "2024-03-11T22:23:58.611334",
     "exception": false,
     "start_time": "2024-03-11T22:23:58.566753",
     "status": "completed"
    },
    "tags": []
   },
   "outputs": [
    {
     "data": {
      "text/plain": [
       "placement\n",
       "0    40\n",
       "1    40\n",
       "dtype: int64"
      ]
     },
     "execution_count": 21,
     "metadata": {},
     "output_type": "execute_result"
    }
   ],
   "source": [
    "pd.crosstab(df[\"cgpa\"],df[\"placement\"]).count() #placement ratio "
   ]
  },
  {
   "cell_type": "code",
   "execution_count": 22,
   "id": "6b790776",
   "metadata": {
    "execution": {
     "iopub.execute_input": "2024-03-11T22:23:58.650583Z",
     "iopub.status.busy": "2024-03-11T22:23:58.649369Z",
     "iopub.status.idle": "2024-03-11T22:23:58.960488Z",
     "shell.execute_reply": "2024-03-11T22:23:58.959196Z"
    },
    "papermill": {
     "duration": 0.33277,
     "end_time": "2024-03-11T22:23:58.963239",
     "exception": false,
     "start_time": "2024-03-11T22:23:58.630469",
     "status": "completed"
    },
    "tags": []
   },
   "outputs": [
    {
     "data": {
      "text/plain": [
       "<Axes: xlabel='placement', ylabel='iq'>"
      ]
     },
     "execution_count": 22,
     "metadata": {},
     "output_type": "execute_result"
    },
    {
     "data": {
      "image/png": "[encoded data removed]",
      "text/plain": [
       "<Figure size 640x480 with 1 Axes>"
      ]
     },
     "metadata": {},
     "output_type": "display_data"
    }
   ],
   "source": [
    "sns.barplot(data=df,x=\"placement\",y=\"iq\")"
   ]
  },
  {
   "cell_type": "code",
   "execution_count": 23,
   "id": "53102345",
   "metadata": {
    "execution": {
     "iopub.execute_input": "2024-03-11T22:23:58.996120Z",
     "iopub.status.busy": "2024-03-11T22:23:58.995672Z",
     "iopub.status.idle": "2024-03-11T22:23:59.253294Z",
     "shell.execute_reply": "2024-03-11T22:23:59.251476Z"
    },
    "papermill": {
     "duration": 0.277365,
     "end_time": "2024-03-11T22:23:59.256073",
     "exception": false,
     "start_time": "2024-03-11T22:23:58.978708",
     "status": "completed"
    },
    "tags": []
   },
   "outputs": [
    {
     "data": {
      "text/plain": [
       "<Axes: xlabel='placement', ylabel='cgpa'>"
      ]
     },
     "execution_count": 23,
     "metadata": {},
     "output_type": "execute_result"
    },
    {
     "data": {
      "image/png": "[encoded data removed]",
      "text/plain": [
       "<Figure size 640x480 with 1 Axes>"
      ]
     },
     "metadata": {},
     "output_type": "display_data"
    }
   ],
   "source": [
    "sns.barplot(data=df,x=\"placement\",y=\"cgpa\")"
   ]
  },
  {
   "cell_type": "code",
   "execution_count": 24,
   "id": "c2d0fb7d",
   "metadata": {
    "execution": {
     "iopub.execute_input": "2024-03-11T22:23:59.289733Z",
     "iopub.status.busy": "2024-03-11T22:23:59.288987Z",
     "iopub.status.idle": "2024-03-11T22:23:59.305513Z",
     "shell.execute_reply": "2024-03-11T22:23:59.304621Z"
    },
    "papermill": {
     "duration": 0.036081,
     "end_time": "2024-03-11T22:23:59.307651",
     "exception": false,
     "start_time": "2024-03-11T22:23:59.271570",
     "status": "completed"
    },
    "tags": []
   },
   "outputs": [
    {
     "data": {
      "text/html": [
       "<div>\n",
       "<style scoped>\n",
       "    .dataframe tbody tr th:only-of-type {\n",
       "        vertical-align: middle;\n",
       "    }\n",
       "\n",
       "    .dataframe tbody tr th {\n",
       "        vertical-align: top;\n",
       "    }\n",
       "\n",
       "    .dataframe thead th {\n",
       "        text-align: right;\n",
       "    }\n",
       "</style>\n",
       "<table border=\"1\" class=\"dataframe\">\n",
       "  <thead>\n",
       "    <tr style=\"text-align: right;\">\n",
       "      <th></th>\n",
       "      <th>cgpa</th>\n",
       "      <th>iq</th>\n",
       "      <th>placement</th>\n",
       "      <th>Los Angeles</th>\n",
       "      <th>new_york</th>\n",
       "    </tr>\n",
       "  </thead>\n",
       "  <tbody>\n",
       "    <tr>\n",
       "      <th>0</th>\n",
       "      <td>6.800000</td>\n",
       "      <td>123.0</td>\n",
       "      <td>1</td>\n",
       "      <td>0.0</td>\n",
       "      <td>1.0</td>\n",
       "    </tr>\n",
       "    <tr>\n",
       "      <th>1</th>\n",
       "      <td>5.900000</td>\n",
       "      <td>106.0</td>\n",
       "      <td>0</td>\n",
       "      <td>1.0</td>\n",
       "      <td>0.0</td>\n",
       "    </tr>\n",
       "    <tr>\n",
       "      <th>2</th>\n",
       "      <td>5.965217</td>\n",
       "      <td>121.0</td>\n",
       "      <td>0</td>\n",
       "      <td>0.0</td>\n",
       "      <td>0.0</td>\n",
       "    </tr>\n",
       "    <tr>\n",
       "      <th>3</th>\n",
       "      <td>7.400000</td>\n",
       "      <td>132.0</td>\n",
       "      <td>1</td>\n",
       "      <td>0.0</td>\n",
       "      <td>1.0</td>\n",
       "    </tr>\n",
       "  </tbody>\n",
       "</table>\n",
       "</div>"
      ],
      "text/plain": [
       "       cgpa     iq  placement  Los Angeles  new_york\n",
       "0  6.800000  123.0          1          0.0       1.0\n",
       "1  5.900000  106.0          0          1.0       0.0\n",
       "2  5.965217  121.0          0          0.0       0.0\n",
       "3  7.400000  132.0          1          0.0       1.0"
      ]
     },
     "execution_count": 24,
     "metadata": {},
     "output_type": "execute_result"
    }
   ],
   "source": [
    "df.head(4)"
   ]
  },
  {
   "cell_type": "markdown",
   "id": "beee90b4",
   "metadata": {
    "papermill": {
     "duration": 0.015645,
     "end_time": "2024-03-11T22:23:59.339182",
     "exception": false,
     "start_time": "2024-03-11T22:23:59.323537",
     "status": "completed"
    },
    "tags": []
   },
   "source": []
  },
  {
   "cell_type": "code",
   "execution_count": 25,
   "id": "e69c3ec5",
   "metadata": {
    "execution": {
     "iopub.execute_input": "2024-03-11T22:23:59.373848Z",
     "iopub.status.busy": "2024-03-11T22:23:59.372912Z",
     "iopub.status.idle": "2024-03-11T22:23:59.389923Z",
     "shell.execute_reply": "2024-03-11T22:23:59.388594Z"
    },
    "papermill": {
     "duration": 0.037558,
     "end_time": "2024-03-11T22:23:59.392650",
     "exception": false,
     "start_time": "2024-03-11T22:23:59.355092",
     "status": "completed"
    },
    "tags": []
   },
   "outputs": [
    {
     "data": {
      "text/html": [
       "<div>\n",
       "<style scoped>\n",
       "    .dataframe tbody tr th:only-of-type {\n",
       "        vertical-align: middle;\n",
       "    }\n",
       "\n",
       "    .dataframe tbody tr th {\n",
       "        vertical-align: top;\n",
       "    }\n",
       "\n",
       "    .dataframe thead th {\n",
       "        text-align: right;\n",
       "    }\n",
       "</style>\n",
       "<table border=\"1\" class=\"dataframe\">\n",
       "  <thead>\n",
       "    <tr style=\"text-align: right;\">\n",
       "      <th></th>\n",
       "      <th>cgpa</th>\n",
       "      <th>iq</th>\n",
       "      <th>Los Angeles</th>\n",
       "      <th>new_york</th>\n",
       "    </tr>\n",
       "  </thead>\n",
       "  <tbody>\n",
       "    <tr>\n",
       "      <th>34</th>\n",
       "      <td>4.8</td>\n",
       "      <td>163.0</td>\n",
       "      <td>1.0</td>\n",
       "      <td>0.0</td>\n",
       "    </tr>\n",
       "  </tbody>\n",
       "</table>\n",
       "</div>"
      ],
      "text/plain": [
       "    cgpa     iq  Los Angeles  new_york\n",
       "34   4.8  163.0          1.0       0.0"
      ]
     },
     "execution_count": 25,
     "metadata": {},
     "output_type": "execute_result"
    }
   ],
   "source": [
    "x_train,x_test,y_train,y_test=train_test_split(x,y,test_size=0.3,random_state=42)\n",
    "x_train.sample()"
   ]
  },
  {
   "cell_type": "code",
   "execution_count": 26,
   "id": "6c7dace1",
   "metadata": {
    "execution": {
     "iopub.execute_input": "2024-03-11T22:23:59.427106Z",
     "iopub.status.busy": "2024-03-11T22:23:59.426310Z",
     "iopub.status.idle": "2024-03-11T22:23:59.431010Z",
     "shell.execute_reply": "2024-03-11T22:23:59.430075Z"
    },
    "papermill": {
     "duration": 0.02479,
     "end_time": "2024-03-11T22:23:59.433418",
     "exception": false,
     "start_time": "2024-03-11T22:23:59.408628",
     "status": "completed"
    },
    "tags": []
   },
   "outputs": [],
   "source": [
    "Lregression=LogisticRegression()"
   ]
  },
  {
   "cell_type": "code",
   "execution_count": 27,
   "id": "c94e2cf7",
   "metadata": {
    "execution": {
     "iopub.execute_input": "2024-03-11T22:23:59.468066Z",
     "iopub.status.busy": "2024-03-11T22:23:59.467596Z",
     "iopub.status.idle": "2024-03-11T22:23:59.503473Z",
     "shell.execute_reply": "2024-03-11T22:23:59.501988Z"
    },
    "papermill": {
     "duration": 0.056362,
     "end_time": "2024-03-11T22:23:59.506173",
     "exception": false,
     "start_time": "2024-03-11T22:23:59.449811",
     "status": "completed"
    },
    "tags": []
   },
   "outputs": [
    {
     "name": "stderr",
     "output_type": "stream",
     "text": [
      "/opt/conda/lib/python3.10/site-packages/sklearn/utils/validation.py:1143: DataConversionWarning: A column-vector y was passed when a 1d array was expected. Please change the shape of y to (n_samples, ), for example using ravel().\n",
      "  y = column_or_1d(y, warn=True)\n"
     ]
    },
    {
     "data": {
      "text/html": [
       "<style>#sk-container-id-1 {color: black;background-color: white;}#sk-container-id-1 pre{padding: 0;}#sk-container-id-1 div.sk-toggleable {background-color: white;}#sk-container-id-1 label.sk-toggleable__label {cursor: pointer;display: block;width: 100%;margin-bottom: 0;padding: 0.3em;box-sizing: border-box;text-align: center;}#sk-container-id-1 label.sk-toggleable__label-arrow:before {content: \"▸\";float: left;margin-right: 0.25em;color: #696969;}#sk-container-id-1 label.sk-toggleable__label-arrow:hover:before {color: black;}#sk-container-id-1 div.sk-estimator:hover label.sk-toggleable__label-arrow:before {color: black;}#sk-container-id-1 div.sk-toggleable__content {max-height: 0;max-width: 0;overflow: hidden;text-align: left;background-color: #f0f8ff;}#sk-container-id-1 div.sk-toggleable__content pre {margin: 0.2em;color: black;border-radius: 0.25em;background-color: #f0f8ff;}#sk-container-id-1 input.sk-toggleable__control:checked~div.sk-toggleable__content {max-height: 200px;max-width: 100%;overflow: auto;}#sk-container-id-1 input.sk-toggleable__control:checked~label.sk-toggleable__label-arrow:before {content: \"▾\";}#sk-container-id-1 div.sk-estimator input.sk-toggleable__control:checked~label.sk-toggleable__label {background-color: #d4ebff;}#sk-container-id-1 div.sk-label input.sk-toggleable__control:checked~label.sk-toggleable__label {background-color: #d4ebff;}#sk-container-id-1 input.sk-hidden--visually {border: 0;clip: rect(1px 1px 1px 1px);clip: rect(1px, 1px, 1px, 1px);height: 1px;margin: -1px;overflow: hidden;padding: 0;position: absolute;width: 1px;}#sk-container-id-1 div.sk-estimator {font-family: monospace;background-color: #f0f8ff;border: 1px dotted black;border-radius: 0.25em;box-sizing: border-box;margin-bottom: 0.5em;}#sk-container-id-1 div.sk-estimator:hover {background-color: #d4ebff;}#sk-container-id-1 div.sk-parallel-item::after {content: \"\";width: 100%;border-bottom: 1px solid gray;flex-grow: 1;}#sk-container-id-1 div.sk-label:hover label.sk-toggleable__label {background-color: #d4ebff;}#sk-container-id-1 div.sk-serial::before {content: \"\";position: absolute;border-left: 1px solid gray;box-sizing: border-box;top: 0;bottom: 0;left: 50%;z-index: 0;}#sk-container-id-1 div.sk-serial {display: flex;flex-direction: column;align-items: center;background-color: white;padding-right: 0.2em;padding-left: 0.2em;position: relative;}#sk-container-id-1 div.sk-item {position: relative;z-index: 1;}#sk-container-id-1 div.sk-parallel {display: flex;align-items: stretch;justify-content: center;background-color: white;position: relative;}#sk-container-id-1 div.sk-item::before, #sk-container-id-1 div.sk-parallel-item::before {content: \"\";position: absolute;border-left: 1px solid gray;box-sizing: border-box;top: 0;bottom: 0;left: 50%;z-index: -1;}#sk-container-id-1 div.sk-parallel-item {display: flex;flex-direction: column;z-index: 1;position: relative;background-color: white;}#sk-container-id-1 div.sk-parallel-item:first-child::after {align-self: flex-end;width: 50%;}#sk-container-id-1 div.sk-parallel-item:last-child::after {align-self: flex-start;width: 50%;}#sk-container-id-1 div.sk-parallel-item:only-child::after {width: 0;}#sk-container-id-1 div.sk-dashed-wrapped {border: 1px dashed gray;margin: 0 0.4em 0.5em 0.4em;box-sizing: border-box;padding-bottom: 0.4em;background-color: white;}#sk-container-id-1 div.sk-label label {font-family: monospace;font-weight: bold;display: inline-block;line-height: 1.2em;}#sk-container-id-1 div.sk-label-container {text-align: center;}#sk-container-id-1 div.sk-container {/* jupyter's `normalize.less` sets `[hidden] { display: none; }` but bootstrap.min.css set `[hidden] { display: none !important; }` so we also need the `!important` here to be able to override the default hidden behavior on the sphinx rendered scikit-learn.org. See: https://github.com/scikit-learn/scikit-learn/issues/21755 */display: inline-block !important;position: relative;}#sk-container-id-1 div.sk-text-repr-fallback {display: none;}</style><div id=\"sk-container-id-1\" class=\"sk-top-container\"><div class=\"sk-text-repr-fallback\"><pre>LogisticRegression()</pre><b>In a Jupyter environment, please rerun this cell to show the HTML representation or trust the notebook. <br />On GitHub, the HTML representation is unable to render, please try loading this page with nbviewer.org.</b></div><div class=\"sk-container\" hidden><div class=\"sk-item\"><div class=\"sk-estimator sk-toggleable\"><input class=\"sk-toggleable__control sk-hidden--visually\" id=\"sk-estimator-id-1\" type=\"checkbox\" checked><label for=\"sk-estimator-id-1\" class=\"sk-toggleable__label sk-toggleable__label-arrow\">LogisticRegression</label><div class=\"sk-toggleable__content\"><pre>LogisticRegression()</pre></div></div></div></div></div>"
      ],
      "text/plain": [
       "LogisticRegression()"
      ]
     },
     "execution_count": 27,
     "metadata": {},
     "output_type": "execute_result"
    }
   ],
   "source": [
    "Lregression.fit(x_train,y_train)"
   ]
  },
  {
   "cell_type": "code",
   "execution_count": 28,
   "id": "5862b659",
   "metadata": {
    "execution": {
     "iopub.execute_input": "2024-03-11T22:23:59.542151Z",
     "iopub.status.busy": "2024-03-11T22:23:59.541625Z",
     "iopub.status.idle": "2024-03-11T22:23:59.554602Z",
     "shell.execute_reply": "2024-03-11T22:23:59.553253Z"
    },
    "papermill": {
     "duration": 0.034385,
     "end_time": "2024-03-11T22:23:59.557266",
     "exception": false,
     "start_time": "2024-03-11T22:23:59.522881",
     "status": "completed"
    },
    "tags": []
   },
   "outputs": [
    {
     "name": "stdout",
     "output_type": "stream",
     "text": [
      "My model has the accuracy of 90.0\n"
     ]
    }
   ],
   "source": [
    "#Now to check accuracy score:\n",
    "y_prd=Lregression.predict(x_test)\n",
    "accuracy_model=accuracy_score(y_prd,y_test)*100\n",
    "print(f\"My model has the accuracy of {accuracy_model}\")"
   ]
  },
  {
   "cell_type": "code",
   "execution_count": 29,
   "id": "def6fee3",
   "metadata": {
    "execution": {
     "iopub.execute_input": "2024-03-11T22:23:59.593858Z",
     "iopub.status.busy": "2024-03-11T22:23:59.593138Z",
     "iopub.status.idle": "2024-03-11T22:23:59.604072Z",
     "shell.execute_reply": "2024-03-11T22:23:59.602600Z"
    },
    "papermill": {
     "duration": 0.031991,
     "end_time": "2024-03-11T22:23:59.606563",
     "exception": false,
     "start_time": "2024-03-11T22:23:59.574572",
     "status": "completed"
    },
    "tags": []
   },
   "outputs": [
    {
     "name": "stdout",
     "output_type": "stream",
     "text": [
      "Model Predict you can secure the placement.\n"
     ]
    },
    {
     "name": "stderr",
     "output_type": "stream",
     "text": [
      "/opt/conda/lib/python3.10/site-packages/sklearn/base.py:439: UserWarning: X does not have valid feature names, but LogisticRegression was fitted with feature names\n",
      "  warnings.warn(\n"
     ]
    }
   ],
   "source": [
    "#Now make the prediction on the basis of train data\n",
    "result=Lregression.predict([[8,20.0,1,0]])\n",
    "if result[0]==0:\n",
    "    print(f\"Sorry you cant secure the placement:\")\n",
    "elif result[0]==1:\n",
    "    print(f\"Model Predict you can secure the placement.\")"
   ]
  }
 ],
 "metadata": {
  "kaggle": {
   "accelerator": "none",
   "dataSources": [
    {
     "datasetId": 4534488,
     "sourceId": 7754914,
     "sourceType": "datasetVersion"
    }
   ],
   "dockerImageVersionId": 30664,
   "isGpuEnabled": false,
   "isInternetEnabled": true,
   "language": "python",
   "sourceType": "notebook"
  },
  "kernelspec": {
   "display_name": "Python 3",
   "language": "python",
   "name": "python3"
  },
  "language_info": {
   "codemirror_mode": {
    "name": "ipython",
    "version": 3
   },
   "file_extension": ".py",
   "mimetype": "text/x-python",
   "name": "python",
   "nbconvert_exporter": "python",
   "pygments_lexer": "ipython3",
   "version": "3.10.13"
  },
  "papermill": {
   "default_parameters": {},
   "duration": 10.741162,
   "end_time": "2024-03-11T22:24:00.346464",
   "environment_variables": {},
   "exception": null,
   "input_path": "__notebook__.ipynb",
   "output_path": "__notebook__.ipynb",
   "parameters": {},
   "start_time": "2024-03-11T22:23:49.605302",
   "version": "2.5.0"
  }
 },
 "nbformat": 4,
 "nbformat_minor": 5
}
